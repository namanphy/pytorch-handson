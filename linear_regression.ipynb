{
  "nbformat": 4,
  "nbformat_minor": 0,
  "metadata": {
    "kernelspec": {
      "display_name": "Python 3",
      "language": "python",
      "name": "python3"
    },
    "language_info": {
      "codemirror_mode": {
        "name": "ipython",
        "version": 3
      },
      "file_extension": ".py",
      "mimetype": "text/x-python",
      "name": "python",
      "nbconvert_exporter": "python",
      "pygments_lexer": "ipython3",
      "version": "3.7.6"
    },
    "colab": {
      "name": "linear-regression.ipynb",
      "provenance": [],
      "include_colab_link": true
    }
  },
  "cells": [
    {
      "cell_type": "markdown",
      "metadata": {
        "id": "view-in-github",
        "colab_type": "text"
      },
      "source": [
        "<a href=\"https://colab.research.google.com/github/namanphy/pytorch-handson/blob/master/linear_regression.ipynb\" target=\"_parent\"><img src=\"https://colab.research.google.com/assets/colab-badge.svg\" alt=\"Open In Colab\"/></a>"
      ]
    },
    {
      "cell_type": "markdown",
      "metadata": {
        "id": "YFt8UzJ4nDUq",
        "colab_type": "text"
      },
      "source": [
        "## Linear Regression with PyTorch\n",
        "\n",
        "*Linear regression*. We'll create a model that predicts crop yields for apples and oranges (*target variables*) by looking at the average temperature, rainfall and humidity (*input variables or features*) in a region. Here's the training data:\n",
        "\n",
        "![linear-regression-training-data](https://i.imgur.com/6Ujttb4.png)\n",
        "\n",
        "In a linear regression model, each target variable is estimated to be a weighted sum of the input variables, offset by some constant, known as a bias :\n",
        "\n",
        "```\n",
        "yield_apple  = w11 * temp + w12 * rainfall + w13 * humidity + b1\n",
        "yield_orange = w21 * temp + w22 * rainfall + w23 * humidity + b2\n",
        "```\n",
        "\n",
        "Visually, it means that the yield of apples is a linear or planar function of temperature, rainfall and humidity:\n",
        "\n",
        "![linear-regression-graph](https://i.imgur.com/4DJ9f8X.png)\n",
        "\n",
        "The *learning* part of linear regression is to figure out a set of weights `w11, w12,... w23, b1 & b2` by looking at the training data, to make accurate predictions for new data (i.e. to predict the yields for apples and oranges in a new region using the average temperature, rainfall and humidity). This is done by adjusting the weights slightly many times to make better predictions, using an optimization technique called *gradient descent*."
      ]
    },
    {
      "cell_type": "markdown",
      "metadata": {
        "id": "KR4cHW9pnDU-",
        "colab_type": "text"
      },
      "source": [
        "We begin by importing Numpy and PyTorch:"
      ]
    },
    {
      "cell_type": "code",
      "metadata": {
        "id": "MNcyIiUmnDVD",
        "colab_type": "code",
        "colab": {}
      },
      "source": [
        "# Uncomment the command below if Numpy or PyTorch is not installed\n",
        "# !conda install numpy pytorch cpuonly -c pytorch -y"
      ],
      "execution_count": 0,
      "outputs": []
    },
    {
      "cell_type": "code",
      "metadata": {
        "id": "5FFQmqmVnDWA",
        "colab_type": "code",
        "colab": {}
      },
      "source": [
        "import numpy as np\n",
        "import torch"
      ],
      "execution_count": 0,
      "outputs": []
    },
    {
      "cell_type": "markdown",
      "metadata": {
        "id": "rbmdmwR8nDWx",
        "colab_type": "text"
      },
      "source": [
        "## Training data\n",
        "\n",
        "The training data can be represented using 2 matrices: `inputs` and `targets`, each with one row per observation, and one column per variable."
      ]
    },
    {
      "cell_type": "code",
      "metadata": {
        "id": "dMlvTOW5nDW0",
        "colab_type": "code",
        "colab": {}
      },
      "source": [
        "# Input (temp, rainfall, humidity)\n",
        "inputs = np.array([[73, 67, 43], \n",
        "                   [91, 88, 64], \n",
        "                   [87, 134, 58], \n",
        "                   [102, 43, 37], \n",
        "                   [69, 96, 70]], dtype='float32')"
      ],
      "execution_count": 0,
      "outputs": []
    },
    {
      "cell_type": "code",
      "metadata": {
        "id": "uhakyXTJnDXO",
        "colab_type": "code",
        "colab": {}
      },
      "source": [
        "# Targets (apples, oranges)\n",
        "targets = np.array([[56, 70], \n",
        "                    [81, 101], \n",
        "                    [119, 133], \n",
        "                    [22, 37], \n",
        "                    [103, 119]], dtype='float32')"
      ],
      "execution_count": 0,
      "outputs": []
    },
    {
      "cell_type": "markdown",
      "metadata": {
        "id": "HD5v43xEnDXb",
        "colab_type": "text"
      },
      "source": [
        "We've separated the input and target variables, because we'll operate on them separately. Also, we've created numpy arrays, because this is typically how you would work with training data: read some CSV files as numpy arrays, do some processing, and then convert them to PyTorch tensors as follows:"
      ]
    },
    {
      "cell_type": "code",
      "metadata": {
        "id": "hqpSHuQ7nDXd",
        "colab_type": "code",
        "outputId": "e3f4cd5d-fbf1-42b6-bb0f-c7e92b7fc2b8",
        "colab": {
          "base_uri": "https://localhost:8080/",
          "height": 265
        }
      },
      "source": [
        "# Convert inputs and targets to tensors\n",
        "inputs = torch.from_numpy(inputs)\n",
        "targets = torch.from_numpy(targets)\n",
        "print(inputs)\n",
        "print(inputs.shape)\n",
        "print(\"\\n\")\n",
        "print(targets)\n",
        "print(targets.shape)"
      ],
      "execution_count": 16,
      "outputs": [
        {
          "output_type": "stream",
          "text": [
            "tensor([[ 73.,  67.,  43.],\n",
            "        [ 91.,  88.,  64.],\n",
            "        [ 87., 134.,  58.],\n",
            "        [102.,  43.,  37.],\n",
            "        [ 69.,  96.,  70.]])\n",
            "torch.Size([5, 3])\n",
            "\n",
            "\n",
            "tensor([[ 56.,  70.],\n",
            "        [ 81., 101.],\n",
            "        [119., 133.],\n",
            "        [ 22.,  37.],\n",
            "        [103., 119.]])\n",
            "torch.Size([5, 2])\n"
          ],
          "name": "stdout"
        }
      ]
    },
    {
      "cell_type": "markdown",
      "metadata": {
        "id": "dKmN4GcjnDXs",
        "colab_type": "text"
      },
      "source": [
        "## Linear regression model from scratch\n",
        "\n",
        "The weights and biases (`w11, w12,... w23, b1 & b2`) can also be represented as matrices, initialized as random values. The first row of `w` and the first element of `b` are used to predict the first target variable i.e. yield of apples, and similarly the second for oranges."
      ]
    },
    {
      "cell_type": "code",
      "metadata": {
        "id": "MK3oOK9MnDXu",
        "colab_type": "code",
        "outputId": "f214db81-3fb7-467b-b2ad-be78b509c22d",
        "colab": {
          "base_uri": "https://localhost:8080/",
          "height": 70
        }
      },
      "source": [
        "# Weights and biases\n",
        "w = torch.randn(2, 3, requires_grad=True)\n",
        "b = torch.randn(2, requires_grad=True)\n",
        "print(w)\n",
        "print(b)"
      ],
      "execution_count": 6,
      "outputs": [
        {
          "output_type": "stream",
          "text": [
            "tensor([[-1.0040e-03, -6.1532e-01,  4.7988e-01],\n",
            "        [ 1.5134e+00,  1.1504e+00, -1.6406e+00]], requires_grad=True)\n",
            "tensor([-0.8283, -1.9563], requires_grad=True)\n"
          ],
          "name": "stdout"
        }
      ]
    },
    {
      "cell_type": "markdown",
      "metadata": {
        "id": "N8V_yfHTnDYK",
        "colab_type": "text"
      },
      "source": [
        "`torch.randn` creates a tensor with the given shape, with elements picked randomly from a [normal distribution](https://en.wikipedia.org/wiki/Normal_distribution) with mean 0 and standard deviation 1.\n",
        "\n",
        "Our *model* is simply a function that performs a matrix multiplication of the `inputs` and the weights `w` (transposed) and adds the bias `b` (replicated for each observation).\n",
        "\n",
        "![matrix-mult](https://i.imgur.com/WGXLFvA.png)\n",
        "\n",
        "We can define the model as follows:"
      ]
    },
    {
      "cell_type": "code",
      "metadata": {
        "id": "tQiOsF_WnDYR",
        "colab_type": "code",
        "colab": {}
      },
      "source": [
        "def model(x):\n",
        "    return x @ w.t() + b"
      ],
      "execution_count": 0,
      "outputs": []
    },
    {
      "cell_type": "markdown",
      "metadata": {
        "id": "7KG7G3AynDYa",
        "colab_type": "text"
      },
      "source": [
        "`@` represents matrix multiplication in PyTorch, and the `.t` method returns the transpose of a tensor.\n",
        "\n",
        "The matrix obtained by passing the input data into the model is a set of predictions for the target variables."
      ]
    },
    {
      "cell_type": "code",
      "metadata": {
        "id": "_V5_yIwDnDYc",
        "colab_type": "code",
        "outputId": "07bc4bdb-fa89-4ec2-c1c3-bdfb04f551a2",
        "colab": {
          "base_uri": "https://localhost:8080/",
          "height": 105
        }
      },
      "source": [
        "# Generate predictions\n",
        "preds = model(inputs)\n",
        "print(preds)"
      ],
      "execution_count": 18,
      "outputs": [
        {
          "output_type": "stream",
          "text": [
            "tensor([[-21.4928, 115.0539],\n",
            "        [-24.3549, 132.0015],\n",
            "        [-55.5348, 188.7112],\n",
            "        [ -9.6336, 141.1749],\n",
            "        [-26.3760,  98.0672]], grad_fn=<AddBackward0>)\n"
          ],
          "name": "stdout"
        }
      ]
    },
    {
      "cell_type": "markdown",
      "metadata": {
        "id": "gCgvZYFdnDYl",
        "colab_type": "text"
      },
      "source": [
        "Let's compare the predictions of our model with the actual targets."
      ]
    },
    {
      "cell_type": "code",
      "metadata": {
        "id": "PD8VzpaInDYn",
        "colab_type": "code",
        "outputId": "5f45f142-1a47-4a08-d08d-36cbe8a48fe7",
        "colab": {
          "base_uri": "https://localhost:8080/",
          "height": 194
        }
      },
      "source": [
        "# Compare with targets\n",
        "print(targets)\n",
        "print(preds - targets) # Lots of difference"
      ],
      "execution_count": 22,
      "outputs": [
        {
          "output_type": "stream",
          "text": [
            "tensor([[ 56.,  70.],\n",
            "        [ 81., 101.],\n",
            "        [119., 133.],\n",
            "        [ 22.,  37.],\n",
            "        [103., 119.]])\n",
            "tensor([[ -77.4928,   45.0539],\n",
            "        [-105.3549,   31.0015],\n",
            "        [-174.5348,   55.7112],\n",
            "        [ -31.6336,  104.1749],\n",
            "        [-129.3760,  -20.9328]], grad_fn=<SubBackward0>)\n"
          ],
          "name": "stdout"
        }
      ]
    },
    {
      "cell_type": "markdown",
      "metadata": {
        "id": "XXblQ-W9nDYz",
        "colab_type": "text"
      },
      "source": [
        "You can see that there's a huge difference between the predictions of our model, and the actual values of the target variables. Obviously, this is because we've initialized our model with random weights and biases, and we can't expect it to *just work*."
      ]
    },
    {
      "cell_type": "markdown",
      "metadata": {
        "id": "nqRICeIgnDY4",
        "colab_type": "text"
      },
      "source": [
        "## Loss function\n",
        "\n",
        "Before we improve our model, we need a way to evaluate how well our model is performing. We can compare the model's predictions with the actual targets, using the following method:\n",
        "\n",
        "* Calculate the difference between the two matrices (`preds` and `targets`).\n",
        "* Square all elements of the difference matrix to remove negative values.\n",
        "* Calculate the average of the elements in the resulting matrix.\n",
        "\n",
        "The result is a single number, known as the **mean squared error** (MSE)."
      ]
    },
    {
      "cell_type": "code",
      "metadata": {
        "id": "nJaFUBtBOU41",
        "colab_type": "code",
        "colab": {
          "base_uri": "https://localhost:8080/",
          "height": 34
        },
        "outputId": "5b0ba134-2c7a-4580-c46e-c6266121a466"
      },
      "source": [
        "print(preds.numel())"
      ],
      "execution_count": 25,
      "outputs": [
        {
          "output_type": "stream",
          "text": [
            "10\n"
          ],
          "name": "stdout"
        }
      ]
    },
    {
      "cell_type": "code",
      "metadata": {
        "id": "Mma-toJQnDY6",
        "colab_type": "code",
        "colab": {}
      },
      "source": [
        "# MSE loss\n",
        "def mse(t1, t2):\n",
        "    diff = t1 - t2\n",
        "    return torch.sum(diff * diff) / diff.numel()"
      ],
      "execution_count": 0,
      "outputs": []
    },
    {
      "cell_type": "markdown",
      "metadata": {
        "id": "198raxIinDZL",
        "colab_type": "text"
      },
      "source": [
        "`torch.sum` returns the sum of all the elements in a tensor, and the `.numel` method returns the number of elements in a tensor. Let's compute the mean squared error for the current predictions of our model."
      ]
    },
    {
      "cell_type": "code",
      "metadata": {
        "id": "ROPsRw2_nDZN",
        "colab_type": "code",
        "outputId": "b1b56e02-3c9b-45f2-df65-2321419f3139",
        "colab": {
          "base_uri": "https://localhost:8080/",
          "height": 34
        }
      },
      "source": [
        "# Compute loss\n",
        "loss = mse(preds, targets)\n",
        "print(loss)"
      ],
      "execution_count": 31,
      "outputs": [
        {
          "output_type": "stream",
          "text": [
            "tensor(8269.1289, grad_fn=<DivBackward0>)\n"
          ],
          "name": "stdout"
        }
      ]
    },
    {
      "cell_type": "markdown",
      "metadata": {
        "id": "14scMDhGnDZa",
        "colab_type": "text"
      },
      "source": [
        "## Compute gradients\n",
        "\n",
        "With PyTorch, we can automatically compute the gradient or derivative of the loss w.r.t. to the weights and biases, because they have `requires_grad` set to `True`."
      ]
    },
    {
      "cell_type": "code",
      "metadata": {
        "id": "-6PJwv4lnDZf",
        "colab_type": "code",
        "colab": {}
      },
      "source": [
        "# Compute gradients\n",
        "loss.backward()"
      ],
      "execution_count": 0,
      "outputs": []
    },
    {
      "cell_type": "markdown",
      "metadata": {
        "id": "85JQcyEtnDZq",
        "colab_type": "text"
      },
      "source": [
        "The gradients are stored in the `.grad` property of the respective tensors. Note that the derivative of the loss w.r.t. the weights matrix is itself a matrix, with the same dimensions."
      ]
    },
    {
      "cell_type": "code",
      "metadata": {
        "id": "taAjriiUnDZt",
        "colab_type": "code",
        "outputId": "6a805c19-7ec7-4e11-d880-f8e7feb46556",
        "colab": {
          "base_uri": "https://localhost:8080/",
          "height": 158
        }
      },
      "source": [
        "# Gradients for weights\n",
        "print(w)\n",
        "print(w.grad)\n",
        "print(\"\\n\")\n",
        "print(b)\n",
        "print(b.grad)"
      ],
      "execution_count": 34,
      "outputs": [
        {
          "output_type": "stream",
          "text": [
            "tensor([[-1.0040e-03, -6.1532e-01,  4.7988e-01],\n",
            "        [ 1.5134e+00,  1.1504e+00, -1.6406e+00]], requires_grad=True)\n",
            "tensor([[ -8516.4736, -10326.2500,  -6084.9370],\n",
            "        [  4027.6846,   3136.4021,   1908.3672]])\n",
            "\n",
            "\n",
            "tensor([-0.8283, -1.9563], requires_grad=True)\n",
            "tensor([-103.6784,   43.0017])\n"
          ],
          "name": "stdout"
        }
      ]
    },
    {
      "cell_type": "markdown",
      "metadata": {
        "id": "_MeFt1RwnDZ4",
        "colab_type": "text"
      },
      "source": [
        "The loss is a [quadratic function](https://en.wikipedia.org/wiki/Quadratic_function) of our weights and biases, and our objective is to find the set of weights where the loss is the lowest. If we plot a graph of the loss w.r.t any individual weight or bias element, it will look like the figure shown below. A key insight from calculus is that the gradient indicates the rate of change of the loss, or the [slope](https://en.wikipedia.org/wiki/Slope) of the loss function w.r.t. the weights and biases.\n",
        "\n",
        "If a gradient element is **positive**:\n",
        "* **increasing** the element's value slightly will **increase** the loss.\n",
        "* **decreasing** the element's value slightly will **decrease** the loss\n",
        "\n",
        "![postive-gradient](https://i.imgur.com/hFYoVgU.png)\n",
        "\n",
        "If a gradient element is **negative**:\n",
        "* **increasing** the element's value slightly will **decrease** the loss.\n",
        "* **decreasing** the element's value slightly will **increase** the loss.\n",
        "\n",
        "![negative=gradient](https://i.imgur.com/w3Wii7C.png)\n",
        "\n",
        "The increase or decrease in loss by changing a weight element is proportional to the value of the gradient of the loss w.r.t. that element. This forms the basis for the optimization algorithm that we'll use to improve our model."
      ]
    },
    {
      "cell_type": "markdown",
      "metadata": {
        "id": "CaSfgNqGnDZ5",
        "colab_type": "text"
      },
      "source": [
        "Before we proceed, we reset the gradients to zero by calling `.zero_()` method. We need to do this, because PyTorch accumulates, gradients i.e. the next time we call `.backward` on the loss, the new gradient values will get added to the existing gradient values, which may lead to unexpected results."
      ]
    },
    {
      "cell_type": "code",
      "metadata": {
        "id": "SZ4yJDXvnDZ7",
        "colab_type": "code",
        "outputId": "bb268a71-78cc-445d-a4aa-3a1d14cf632b",
        "colab": {
          "base_uri": "https://localhost:8080/",
          "height": 70
        }
      },
      "source": [
        "w.grad.zero_()\n",
        "b.grad.zero_()\n",
        "print(w.grad)\n",
        "print(b.grad)"
      ],
      "execution_count": 35,
      "outputs": [
        {
          "output_type": "stream",
          "text": [
            "tensor([[0., 0., 0.],\n",
            "        [0., 0., 0.]])\n",
            "tensor([0., 0.])\n"
          ],
          "name": "stdout"
        }
      ]
    },
    {
      "cell_type": "markdown",
      "metadata": {
        "id": "0GiJmUhSnDaY",
        "colab_type": "text"
      },
      "source": [
        "## Adjust weights and biases using gradient descent\n",
        "\n",
        "We'll reduce the loss and improve our model using the gradient descent optimization algorithm, which has the following steps:\n",
        "\n",
        "1. Generate predictions\n",
        "\n",
        "2. Calculate the loss\n",
        "\n",
        "3. Compute gradients w.r.t the weights and biases\n",
        "\n",
        "4. Adjust the weights by subtracting a small quantity proportional to the gradient\n",
        "\n",
        "5. Reset the gradients to zero\n",
        "\n",
        "Let's implement the above step by step."
      ]
    },
    {
      "cell_type": "code",
      "metadata": {
        "id": "mFlQ9HOWnDaa",
        "colab_type": "code",
        "outputId": "065c1eae-19de-437f-84f9-807c42deeb23",
        "colab": {
          "base_uri": "https://localhost:8080/",
          "height": 105
        }
      },
      "source": [
        "# Generate predictions\n",
        "preds = model(inputs)\n",
        "print(preds)"
      ],
      "execution_count": 45,
      "outputs": [
        {
          "output_type": "stream",
          "text": [
            "tensor([[-21.4928, 115.0539],\n",
            "        [-24.3549, 132.0015],\n",
            "        [-55.5348, 188.7112],\n",
            "        [ -9.6336, 141.1749],\n",
            "        [-26.3760,  98.0672]], grad_fn=<AddBackward0>)\n"
          ],
          "name": "stdout"
        }
      ]
    },
    {
      "cell_type": "markdown",
      "metadata": {
        "id": "-8wEKxgfnDbS",
        "colab_type": "text"
      },
      "source": [
        "Note that the predictions are same as before, since we haven't made any changes to our model. The same holds true for the loss and gradients."
      ]
    },
    {
      "cell_type": "code",
      "metadata": {
        "id": "Wgfwc8wDnDbU",
        "colab_type": "code",
        "outputId": "290144b9-c3bd-4c64-8287-f0c774d45ce6",
        "colab": {
          "base_uri": "https://localhost:8080/",
          "height": 34
        }
      },
      "source": [
        "# Calculate the loss\n",
        "loss = mse(preds, targets)\n",
        "print(loss)"
      ],
      "execution_count": 46,
      "outputs": [
        {
          "output_type": "stream",
          "text": [
            "tensor(8269.1289, grad_fn=<DivBackward0>)\n"
          ],
          "name": "stdout"
        }
      ]
    },
    {
      "cell_type": "code",
      "metadata": {
        "id": "dpws7W6jnDcQ",
        "colab_type": "code",
        "outputId": "c052e7d4-f815-4fa6-abe6-1d56fe99e50d",
        "colab": {
          "base_uri": "https://localhost:8080/",
          "height": 70
        }
      },
      "source": [
        "# Compute gradients\n",
        "loss.backward()\n",
        "print(w.grad)\n",
        "print(b.grad)"
      ],
      "execution_count": 47,
      "outputs": [
        {
          "output_type": "stream",
          "text": [
            "tensor([[ -8516.4736, -10326.2500,  -6084.9370],\n",
            "        [  4027.6846,   3136.4021,   1908.3672]])\n",
            "tensor([-103.6784,   43.0017])\n"
          ],
          "name": "stdout"
        }
      ]
    },
    {
      "cell_type": "markdown",
      "metadata": {
        "id": "ei8SI8y_nDcc",
        "colab_type": "text"
      },
      "source": [
        "Finally, we update the weights and biases using the gradients computed above."
      ]
    },
    {
      "cell_type": "code",
      "metadata": {
        "id": "AKZle82xnDce",
        "colab_type": "code",
        "colab": {}
      },
      "source": [
        "# Adjust weights & reset gradients\n",
        "with torch.no_grad():\n",
        "    w -= w.grad * 1e-5\n",
        "    b -= b.grad * 1e-5\n",
        "    w.grad.zero_()\n",
        "    b.grad.zero_()"
      ],
      "execution_count": 0,
      "outputs": []
    },
    {
      "cell_type": "markdown",
      "metadata": {
        "id": "ARBOmj-bnDdB",
        "colab_type": "text"
      },
      "source": [
        "A few things to note above:\n",
        "\n",
        "* We use `torch.no_grad` to indicate to PyTorch that we shouldn't track, calculate or modify gradients while updating the weights and biases. \n",
        "\n",
        "* We multiply the gradients with a really small number (`10^-5` in this case), to ensure that we don't modify the weights by a really large amount, since we only want to take a small step in the downhill direction of the gradient. This number is called the *learning rate* of the algorithm. \n",
        "\n",
        "* After we have updated the weights, we reset the gradients back to zero, to avoid affecting any future computations."
      ]
    },
    {
      "cell_type": "markdown",
      "metadata": {
        "id": "5eQUOIBqnDdC",
        "colab_type": "text"
      },
      "source": [
        "Let's take a look at the new weights and biases."
      ]
    },
    {
      "cell_type": "code",
      "metadata": {
        "id": "Z0IAzp-MnDdF",
        "colab_type": "code",
        "outputId": "2e496790-7749-40c1-8f5b-8c688dacc832",
        "colab": {
          "base_uri": "https://localhost:8080/",
          "height": 70
        }
      },
      "source": [
        "print(w)\n",
        "print(b)"
      ],
      "execution_count": 49,
      "outputs": [
        {
          "output_type": "stream",
          "text": [
            "tensor([[ 0.0842, -0.5121,  0.5407],\n",
            "        [ 1.4731,  1.1191, -1.6597]], requires_grad=True)\n",
            "tensor([-0.8273, -1.9568], requires_grad=True)\n"
          ],
          "name": "stdout"
        }
      ]
    },
    {
      "cell_type": "markdown",
      "metadata": {
        "id": "nw4F6U9anDdV",
        "colab_type": "text"
      },
      "source": [
        "With the new weights and biases, the model should have lower loss."
      ]
    },
    {
      "cell_type": "code",
      "metadata": {
        "id": "frY67RmGnDdY",
        "colab_type": "code",
        "outputId": "0a1345c7-1697-4b00-e61a-7509dd5cdaa9",
        "colab": {
          "base_uri": "https://localhost:8080/",
          "height": 34
        }
      },
      "source": [
        "# Calculate loss\n",
        "preds = model(inputs)\n",
        "loss = mse(preds, targets)\n",
        "print(loss)"
      ],
      "execution_count": 50,
      "outputs": [
        {
          "output_type": "stream",
          "text": [
            "tensor(6029.0840, grad_fn=<DivBackward0>)\n"
          ],
          "name": "stdout"
        }
      ]
    },
    {
      "cell_type": "markdown",
      "metadata": {
        "id": "vnTPpcJQnDdr",
        "colab_type": "text"
      },
      "source": [
        "We have already achieved a significant reduction in the loss, simply by adjusting the weights and biases slightly using gradient descent."
      ]
    },
    {
      "cell_type": "markdown",
      "metadata": {
        "id": "3IyL6Gv0nDdt",
        "colab_type": "text"
      },
      "source": [
        "## Train for multiple epochs\n",
        "\n",
        "To reduce the loss further, we can repeat the process of adjusting the weights and biases using the gradients multiple times. Each iteration is called an epoch. Let's train the model for 100 epochs."
      ]
    },
    {
      "cell_type": "code",
      "metadata": {
        "id": "0UZKCuznnDd9",
        "colab_type": "code",
        "colab": {}
      },
      "source": [
        "# Train for 100 epochs\n",
        "for i in range(100):\n",
        "    preds = model(inputs)\n",
        "    loss = mse(preds, targets)\n",
        "    loss.backward()\n",
        "    with torch.no_grad():\n",
        "        w -= w.grad * 1e-5\n",
        "        b -= b.grad * 1e-5\n",
        "        w.grad.zero_()\n",
        "        b.grad.zero_()"
      ],
      "execution_count": 0,
      "outputs": []
    },
    {
      "cell_type": "markdown",
      "metadata": {
        "id": "qmPlkqm2nDeU",
        "colab_type": "text"
      },
      "source": [
        "Once again, let's verify that the loss is now lower:"
      ]
    },
    {
      "cell_type": "code",
      "metadata": {
        "id": "h4iMH6AbnDeW",
        "colab_type": "code",
        "outputId": "d13ccbd9-7632-4cc7-c2dd-2edd33d0ed25",
        "colab": {
          "base_uri": "https://localhost:8080/",
          "height": 34
        }
      },
      "source": [
        "# Calculate loss\n",
        "preds = model(inputs)\n",
        "loss = mse(preds, targets)\n",
        "print(loss)"
      ],
      "execution_count": 56,
      "outputs": [
        {
          "output_type": "stream",
          "text": [
            "tensor(344.9359, grad_fn=<DivBackward0>)\n"
          ],
          "name": "stdout"
        }
      ]
    },
    {
      "cell_type": "markdown",
      "metadata": {
        "id": "s1xfdtcmnDef",
        "colab_type": "text"
      },
      "source": [
        "As you can see, the loss is now much lower than what we started out with. Let's look at the model's predictions and compare them with the targets."
      ]
    },
    {
      "cell_type": "code",
      "metadata": {
        "id": "3muo9TKjnDei",
        "colab_type": "code",
        "outputId": "f32cbdea-f757-4d5d-bdc5-2b97d48d1b2d",
        "colab": {
          "base_uri": "https://localhost:8080/",
          "height": 105
        }
      },
      "source": [
        "# Predictions\n",
        "preds"
      ],
      "execution_count": 57,
      "outputs": [
        {
          "output_type": "execute_result",
          "data": {
            "text/plain": [
              "tensor([[ 59.6475,  74.7999],\n",
              "        [ 85.8328,  87.0115],\n",
              "        [106.4533, 156.7966],\n",
              "        [ 36.5102,  63.3423],\n",
              "        [ 99.0614,  79.6260]], grad_fn=<AddBackward0>)"
            ]
          },
          "metadata": {
            "tags": []
          },
          "execution_count": 57
        }
      ]
    },
    {
      "cell_type": "code",
      "metadata": {
        "id": "wfAxmW_nnDe3",
        "colab_type": "code",
        "outputId": "ad500397-bcdf-4b65-ed99-d4ab3302d45e",
        "colab": {
          "base_uri": "https://localhost:8080/",
          "height": 105
        }
      },
      "source": [
        "# Targets\n",
        "targets"
      ],
      "execution_count": 58,
      "outputs": [
        {
          "output_type": "execute_result",
          "data": {
            "text/plain": [
              "tensor([[ 56.,  70.],\n",
              "        [ 81., 101.],\n",
              "        [119., 133.],\n",
              "        [ 22.,  37.],\n",
              "        [103., 119.]])"
            ]
          },
          "metadata": {
            "tags": []
          },
          "execution_count": 58
        }
      ]
    },
    {
      "cell_type": "markdown",
      "metadata": {
        "id": "TazhXBgRnDgx",
        "colab_type": "text"
      },
      "source": [
        "# Linear regression using PyTorch built-ins\n",
        "\n",
        "\n",
        "The model and training process above were implemented using basic matrix operations. But since this such a common pattern , PyTorch has several built-in functions and classes to make it easy to create and train models.\n",
        "\n",
        "Let's begin by importing the `torch.nn` package from PyTorch, which contains utility classes for building neural networks."
      ]
    },
    {
      "cell_type": "markdown",
      "metadata": {
        "id": "Su7R5Z74Ywru",
        "colab_type": "text"
      },
      "source": [
        "1. How to choose batch size?\n",
        "2. Appropiate learning rate - probably start from 1e-5 and start decreasing."
      ]
    },
    {
      "cell_type": "code",
      "metadata": {
        "id": "UbKrApJtnDhR",
        "colab_type": "code",
        "colab": {}
      },
      "source": [
        "import torch.nn as nn"
      ],
      "execution_count": 0,
      "outputs": []
    },
    {
      "cell_type": "markdown",
      "metadata": {
        "id": "dAx0azDtnDhn",
        "colab_type": "text"
      },
      "source": [
        "As before, we represent the inputs and targets and matrices."
      ]
    },
    {
      "cell_type": "code",
      "metadata": {
        "id": "LMMZxM2knDhr",
        "colab_type": "code",
        "colab": {}
      },
      "source": [
        "# Input (temp, rainfall, humidity)\n",
        "inputs = np.array([[73, 67, 43], [91, 88, 64], [87, 134, 58], \n",
        "                   [102, 43, 37], [69, 96, 70], [73, 67, 43], \n",
        "                   [91, 88, 64], [87, 134, 58], [102, 43, 37], \n",
        "                   [69, 96, 70], [73, 67, 43], [91, 88, 64], \n",
        "                   [87, 134, 58], [102, 43, 37], [69, 96, 70]], \n",
        "                  dtype='float32')\n",
        "\n",
        "# Targets (apples, oranges)\n",
        "targets = np.array([[56, 70], [81, 101], [119, 133], \n",
        "                    [22, 37], [103, 119], [56, 70], \n",
        "                    [81, 101], [119, 133], [22, 37], \n",
        "                    [103, 119], [56, 70], [81, 101], \n",
        "                    [119, 133], [22, 37], [103, 119]], \n",
        "                   dtype='float32')\n",
        "\n",
        "inputs = torch.from_numpy(inputs)\n",
        "targets = torch.from_numpy(targets)"
      ],
      "execution_count": 0,
      "outputs": []
    },
    {
      "cell_type": "code",
      "metadata": {
        "id": "EMfmMgUDnDh9",
        "colab_type": "code",
        "outputId": "cc473762-86f6-4d7f-c736-4f45e1050f02",
        "colab": {
          "base_uri": "https://localhost:8080/",
          "height": 283
        }
      },
      "source": [
        "inputs"
      ],
      "execution_count": 62,
      "outputs": [
        {
          "output_type": "execute_result",
          "data": {
            "text/plain": [
              "tensor([[ 73.,  67.,  43.],\n",
              "        [ 91.,  88.,  64.],\n",
              "        [ 87., 134.,  58.],\n",
              "        [102.,  43.,  37.],\n",
              "        [ 69.,  96.,  70.],\n",
              "        [ 73.,  67.,  43.],\n",
              "        [ 91.,  88.,  64.],\n",
              "        [ 87., 134.,  58.],\n",
              "        [102.,  43.,  37.],\n",
              "        [ 69.,  96.,  70.],\n",
              "        [ 73.,  67.,  43.],\n",
              "        [ 91.,  88.,  64.],\n",
              "        [ 87., 134.,  58.],\n",
              "        [102.,  43.,  37.],\n",
              "        [ 69.,  96.,  70.]])"
            ]
          },
          "metadata": {
            "tags": []
          },
          "execution_count": 62
        }
      ]
    },
    {
      "cell_type": "markdown",
      "metadata": {
        "id": "HsQfrccynDiH",
        "colab_type": "text"
      },
      "source": [
        "We are using 15 training examples this time, to illustrate how to work with large datasets in small batches."
      ]
    },
    {
      "cell_type": "markdown",
      "metadata": {
        "id": "724FIe2gnDiJ",
        "colab_type": "text"
      },
      "source": [
        "## Dataset and DataLoader\n",
        "First we'll create a custom Dataset in pytorch to fee it into a `Dataloader` that can split the data into batches of a predefined size while training(at runtime for GPU). It also provides other utilities like shuffling and random sampling of the data.\n",
        "\n",
        "\n",
        "We'll create a `TensorDataset`, which allows access to rows from `inputs` and `targets` as tuples, and provides standard APIs for working with many different types of datasets in PyTorch."
      ]
    },
    {
      "cell_type": "code",
      "metadata": {
        "id": "1jUjQWmEnDiK",
        "colab_type": "code",
        "colab": {}
      },
      "source": [
        "from torch.utils.data import TensorDataset"
      ],
      "execution_count": 0,
      "outputs": []
    },
    {
      "cell_type": "code",
      "metadata": {
        "id": "3E8J2HV-nDir",
        "colab_type": "code",
        "outputId": "0e639bb3-506d-4d1d-c82b-a28716f2802c",
        "colab": {
          "base_uri": "https://localhost:8080/",
          "height": 105
        }
      },
      "source": [
        "# Define dataset\n",
        "train_ds = TensorDataset(inputs, targets)\n",
        "train_ds[0:3]"
      ],
      "execution_count": 69,
      "outputs": [
        {
          "output_type": "execute_result",
          "data": {
            "text/plain": [
              "(tensor([[ 73.,  67.,  43.],\n",
              "         [ 91.,  88.,  64.],\n",
              "         [ 87., 134.,  58.]]), tensor([[ 56.,  70.],\n",
              "         [ 81., 101.],\n",
              "         [119., 133.]]))"
            ]
          },
          "metadata": {
            "tags": []
          },
          "execution_count": 69
        }
      ]
    },
    {
      "cell_type": "markdown",
      "metadata": {
        "id": "e9pN-v8onDjI",
        "colab_type": "text"
      },
      "source": [
        "The `TensorDataset` allows us to access a small section of the training data using the array indexing notation (`[0:3]` in the above code). It returns a tuple (or pair), in which the first element contains the input variables for the selected rows, and the second contains the targets."
      ]
    },
    {
      "cell_type": "code",
      "metadata": {
        "id": "yywGioEunDjV",
        "colab_type": "code",
        "colab": {}
      },
      "source": [
        "from torch.utils.data import DataLoader"
      ],
      "execution_count": 0,
      "outputs": []
    },
    {
      "cell_type": "code",
      "metadata": {
        "id": "8q-zaq3OnDjh",
        "colab_type": "code",
        "colab": {}
      },
      "source": [
        "# Define data loader\n",
        "batch_size = 4\n",
        "train_dl = DataLoader(train_ds, batch_size, shuffle=True)"
      ],
      "execution_count": 0,
      "outputs": []
    },
    {
      "cell_type": "markdown",
      "metadata": {
        "id": "GjGePVO7nDkr",
        "colab_type": "text"
      },
      "source": [
        "**The data loader is typically used in a `for-in` loop.** Let's look at an example."
      ]
    },
    {
      "cell_type": "code",
      "metadata": {
        "id": "_Kx0szOcnDlH",
        "colab_type": "code",
        "outputId": "e2b98162-8e20-481c-dc32-be80e3f67b96",
        "colab": {
          "base_uri": "https://localhost:8080/",
          "height": 158
        }
      },
      "source": [
        "for xb, yb in train_dl:\n",
        "    print(xb)\n",
        "    print(yb)\n",
        "    break"
      ],
      "execution_count": 74,
      "outputs": [
        {
          "output_type": "stream",
          "text": [
            "tensor([[ 73.,  67.,  43.],\n",
            "        [ 91.,  88.,  64.],\n",
            "        [ 87., 134.,  58.],\n",
            "        [ 69.,  96.,  70.]])\n",
            "tensor([[ 56.,  70.],\n",
            "        [ 81., 101.],\n",
            "        [119., 133.],\n",
            "        [103., 119.]])\n"
          ],
          "name": "stdout"
        }
      ]
    },
    {
      "cell_type": "markdown",
      "metadata": {
        "id": "6luZotGhnDnD",
        "colab_type": "text"
      },
      "source": [
        "In each iteration, the data loader returns one batch of data, with the given batch size. If `shuffle` is set to `True`, it shuffles the training data before creating batches. Shuffling helps randomize the input to the optimization algorithm, which can lead to faster reduction in the loss."
      ]
    },
    {
      "cell_type": "markdown",
      "metadata": {
        "id": "l_45v_58nDnE",
        "colab_type": "text"
      },
      "source": [
        "## nn.Linear\n",
        "\n",
        "Instead of initializing the weights & biases manually, we can define the model using the `nn.Linear` class from PyTorch, which does it automatically."
      ]
    },
    {
      "cell_type": "code",
      "metadata": {
        "id": "QDN-1rssZgPJ",
        "colab_type": "code",
        "colab": {}
      },
      "source": [
        "?? nn.Linear"
      ],
      "execution_count": 0,
      "outputs": []
    },
    {
      "cell_type": "code",
      "metadata": {
        "id": "WYw-ful4nDnX",
        "colab_type": "code",
        "outputId": "296ab3b2-bf34-40dd-efce-a9e3bb771652",
        "colab": {
          "base_uri": "https://localhost:8080/",
          "height": 105
        }
      },
      "source": [
        "# Define model\n",
        "model = nn.Linear(3, 2)\n",
        "print(model.weight)\n",
        "print(model.bias)"
      ],
      "execution_count": 85,
      "outputs": [
        {
          "output_type": "stream",
          "text": [
            "Parameter containing:\n",
            "tensor([[ 0.4966, -0.2703, -0.0806],\n",
            "        [-0.5400, -0.0483,  0.5406]], requires_grad=True)\n",
            "Parameter containing:\n",
            "tensor([-0.3228, -0.3267], requires_grad=True)\n"
          ],
          "name": "stdout"
        }
      ]
    },
    {
      "cell_type": "markdown",
      "metadata": {
        "id": "J2_77iibnDoX",
        "colab_type": "text"
      },
      "source": [
        "PyTorch models also have a helpful `.parameters` method, which returns a list containing all the weights and bias matrices present in the model. For our linear regression model, we have one weight matrix and one bias matrix."
      ]
    },
    {
      "cell_type": "code",
      "metadata": {
        "id": "dYnwjRKSnDoq",
        "colab_type": "code",
        "outputId": "1887e358-e544-4ccf-f1e6-21a3749030e5",
        "colab": {
          "base_uri": "https://localhost:8080/",
          "height": 105
        }
      },
      "source": [
        "# Parameters\n",
        "list(model.parameters())"
      ],
      "execution_count": 86,
      "outputs": [
        {
          "output_type": "execute_result",
          "data": {
            "text/plain": [
              "[Parameter containing:\n",
              " tensor([[ 0.4966, -0.2703, -0.0806],\n",
              "         [-0.5400, -0.0483,  0.5406]], requires_grad=True),\n",
              " Parameter containing:\n",
              " tensor([-0.3228, -0.3267], requires_grad=True)]"
            ]
          },
          "metadata": {
            "tags": []
          },
          "execution_count": 86
        }
      ]
    },
    {
      "cell_type": "markdown",
      "metadata": {
        "id": "hbZvDwiOnDpY",
        "colab_type": "text"
      },
      "source": [
        "We can use the model to generate predictions in the exact same way as before:"
      ]
    },
    {
      "cell_type": "code",
      "metadata": {
        "id": "0dLzIOdUnDpZ",
        "colab_type": "code",
        "outputId": "5a5354eb-b3d8-4ed3-ca88-1b01ba01d3e0",
        "colab": {
          "base_uri": "https://localhost:8080/",
          "height": 283
        }
      },
      "source": [
        "# Generate predictions\n",
        "preds = model(inputs)\n",
        "preds"
      ],
      "execution_count": 87,
      "outputs": [
        {
          "output_type": "execute_result",
          "data": {
            "text/plain": [
              "tensor([[ 14.3472, -19.7356],\n",
              "        [ 15.9152, -19.1169],\n",
              "        [  1.9773, -22.4235],\n",
              "        [ 35.7195, -37.4787],\n",
              "        [  2.3442,  -4.3804],\n",
              "        [ 14.3472, -19.7356],\n",
              "        [ 15.9152, -19.1169],\n",
              "        [  1.9773, -22.4235],\n",
              "        [ 35.7195, -37.4787],\n",
              "        [  2.3442,  -4.3804],\n",
              "        [ 14.3472, -19.7356],\n",
              "        [ 15.9152, -19.1169],\n",
              "        [  1.9773, -22.4235],\n",
              "        [ 35.7195, -37.4787],\n",
              "        [  2.3442,  -4.3804]], grad_fn=<AddmmBackward>)"
            ]
          },
          "metadata": {
            "tags": []
          },
          "execution_count": 87
        }
      ]
    },
    {
      "cell_type": "markdown",
      "metadata": {
        "id": "FC7WKJD8nDqJ",
        "colab_type": "text"
      },
      "source": [
        "## Loss Function\n",
        "\n",
        "Instead of defining a loss function manually, we can use the built-in loss function `mse_loss`."
      ]
    },
    {
      "cell_type": "code",
      "metadata": {
        "id": "peMqjwjgnDqK",
        "colab_type": "code",
        "colab": {}
      },
      "source": [
        "# Import nn.functional\n",
        "import torch.nn.functional as F"
      ],
      "execution_count": 0,
      "outputs": []
    },
    {
      "cell_type": "markdown",
      "metadata": {
        "id": "Utc9US2MnDqZ",
        "colab_type": "text"
      },
      "source": [
        "The `nn.functional` package contains many useful loss functions and several other utilities. "
      ]
    },
    {
      "cell_type": "code",
      "metadata": {
        "id": "sbxxJ3cEnDqc",
        "colab_type": "code",
        "colab": {}
      },
      "source": [
        "# Define loss function\n",
        "loss_fn = F.mse_loss"
      ],
      "execution_count": 0,
      "outputs": []
    },
    {
      "cell_type": "markdown",
      "metadata": {
        "id": "gvq3h781nDqn",
        "colab_type": "text"
      },
      "source": [
        "Let's compute the loss for the current predictions of our model."
      ]
    },
    {
      "cell_type": "code",
      "metadata": {
        "id": "ApptTzqFnDqo",
        "colab_type": "code",
        "outputId": "23f36526-284e-4db9-e4c6-e38a989ddfe0",
        "colab": {
          "base_uri": "https://localhost:8080/",
          "height": 34
        }
      },
      "source": [
        "loss = loss_fn(model(inputs), targets)\n",
        "print(loss)"
      ],
      "execution_count": 90,
      "outputs": [
        {
          "output_type": "stream",
          "text": [
            "tensor(9739.1895, grad_fn=<MseLossBackward>)\n"
          ],
          "name": "stdout"
        }
      ]
    },
    {
      "cell_type": "markdown",
      "metadata": {
        "id": "gTs0DwqQnDqx",
        "colab_type": "text"
      },
      "source": [
        "## Optimizer\n",
        "\n",
        "Instead of manually manipulating the model's weights & biases using gradients, we can use the optimizer `optim.SGD`. SGD stands for `stochastic gradient descent`. It is called `stochastic` because samples are selected in batches (often with random shuffling) instead of as a single group."
      ]
    },
    {
      "cell_type": "code",
      "metadata": {
        "id": "RQbeYUnSnDq1",
        "colab_type": "code",
        "colab": {}
      },
      "source": [
        "# Define optimizer\n",
        "opt = torch.optim.SGD(model.parameters(), lr=1e-5)"
      ],
      "execution_count": 0,
      "outputs": []
    },
    {
      "cell_type": "code",
      "metadata": {
        "id": "t0vKaTvvdENj",
        "colab_type": "code",
        "colab": {}
      },
      "source": [
        "?? torch.optim.SGD"
      ],
      "execution_count": 0,
      "outputs": []
    },
    {
      "cell_type": "markdown",
      "metadata": {
        "id": "QGzZwds5nDrI",
        "colab_type": "text"
      },
      "source": [
        "Note that `model.parameters()` is passed as an argument to `optim.SGD`, so that the optimizer knows which matrices should be modified during the update step. Also, we can specify a learning rate which controls the amount by which the parameters are modified."
      ]
    },
    {
      "cell_type": "markdown",
      "metadata": {
        "id": "9X8OKzj3nDrN",
        "colab_type": "text"
      },
      "source": [
        "## Train the model\n",
        "\n",
        "We are now ready to train the model. We'll follow the exact same process to implement gradient descent:\n",
        "\n",
        "1. Generate predictions\n",
        "\n",
        "2. Calculate the loss\n",
        "\n",
        "3. Compute gradients w.r.t the weights and biases\n",
        "\n",
        "4. Adjust the weights by subtracting a small quantity proportional to the gradient\n",
        "\n",
        "5. Reset the gradients to zero\n",
        "\n",
        "The only change is that we'll work batches of data, instead of processing the entire training data in every iteration. Let's define a utility function `fit` which trains the model for a given number of epochs."
      ]
    },
    {
      "cell_type": "code",
      "metadata": {
        "id": "JQeqlu-knDrO",
        "colab_type": "code",
        "colab": {}
      },
      "source": [
        "# Utility function to train the model\n",
        "def fit(num_epochs, model, loss_fn, opt, train_dl):\n",
        "    \n",
        "    # Repeat for given number of epochs\n",
        "    for epoch in range(num_epochs):\n",
        "        \n",
        "        # Train with batches of data\n",
        "        for xb,yb in train_dl:\n",
        "            \n",
        "            # 1. Generate predictions\n",
        "            pred = model(xb)\n",
        "            \n",
        "            # 2. Calculate loss\n",
        "            loss = loss_fn(pred, yb)\n",
        "            \n",
        "            # 3. Compute gradients\n",
        "            loss.backward()\n",
        "            \n",
        "            # 4. Update parameters using gradients\n",
        "            opt.step()\n",
        "            \n",
        "            # 5. Reset the gradients to zero\n",
        "            opt.zero_grad()\n",
        "        \n",
        "        # Print the progress\n",
        "        if (epoch+1) % 10 == 0:\n",
        "            print('Epoch [{}/{}], Loss: {:.4f}'.format(epoch+1, num_epochs, loss.item()))"
      ],
      "execution_count": 0,
      "outputs": []
    },
    {
      "cell_type": "markdown",
      "metadata": {
        "id": "Nm-8yCAhnDra",
        "colab_type": "text"
      },
      "source": [
        "Some things to note above:\n",
        "\n",
        "* We use the data loader defined earlier to get batches of data for every iteration.\n",
        "\n",
        "* Instead of updating parameters (weights and biases) manually, we use `opt.step` to perform the update, and `opt.zero_grad` to reset the gradients to zero.\n",
        "\n",
        "* We've also added a log statement which prints the loss from the last batch of data for every 10th epoch, to track the progress of training. `loss.item` returns the actual value stored in the loss tensor.\n",
        "\n",
        "Let's train the model for 100 epochs."
      ]
    },
    {
      "cell_type": "code",
      "metadata": {
        "id": "gfuBybX1nDrc",
        "colab_type": "code",
        "colab": {
          "base_uri": "https://localhost:8080/",
          "height": 194
        },
        "outputId": "45b6ba03-9d3d-4ba9-bb76-fb2654bb907c"
      },
      "source": [
        "fit(100, model, loss_fn, opt, train_dl)"
      ],
      "execution_count": 95,
      "outputs": [
        {
          "output_type": "stream",
          "text": [
            "Epoch [10/100], Loss: 737.2159\n",
            "Epoch [20/100], Loss: 364.9256\n",
            "Epoch [30/100], Loss: 204.1182\n",
            "Epoch [40/100], Loss: 19.7621\n",
            "Epoch [50/100], Loss: 149.4797\n",
            "Epoch [60/100], Loss: 30.2133\n",
            "Epoch [70/100], Loss: 21.5474\n",
            "Epoch [80/100], Loss: 16.4472\n",
            "Epoch [90/100], Loss: 35.6415\n",
            "Epoch [100/100], Loss: 11.4821\n"
          ],
          "name": "stdout"
        }
      ]
    },
    {
      "cell_type": "markdown",
      "metadata": {
        "id": "lQIKoLDynDsE",
        "colab_type": "text"
      },
      "source": [
        "Let's generate predictions using our model and verify that they're close to our targets."
      ]
    },
    {
      "cell_type": "code",
      "metadata": {
        "id": "P3jpIe7cnDsL",
        "colab_type": "code",
        "colab": {
          "base_uri": "https://localhost:8080/",
          "height": 283
        },
        "outputId": "8acb347d-7af4-4d5a-ba08-64faad19eb98"
      },
      "source": [
        "# Generate predictions\n",
        "preds = model(inputs)\n",
        "preds"
      ],
      "execution_count": 96,
      "outputs": [
        {
          "output_type": "execute_result",
          "data": {
            "text/plain": [
              "tensor([[ 57.9479,  70.4318],\n",
              "        [ 80.1950, 100.8809],\n",
              "        [120.1282, 131.9761],\n",
              "        [ 27.1854,  38.2974],\n",
              "        [ 94.9302, 118.7146],\n",
              "        [ 57.9479,  70.4318],\n",
              "        [ 80.1950, 100.8809],\n",
              "        [120.1282, 131.9761],\n",
              "        [ 27.1854,  38.2974],\n",
              "        [ 94.9302, 118.7146],\n",
              "        [ 57.9479,  70.4318],\n",
              "        [ 80.1950, 100.8809],\n",
              "        [120.1282, 131.9761],\n",
              "        [ 27.1854,  38.2974],\n",
              "        [ 94.9302, 118.7146]], grad_fn=<AddmmBackward>)"
            ]
          },
          "metadata": {
            "tags": []
          },
          "execution_count": 96
        }
      ]
    },
    {
      "cell_type": "code",
      "metadata": {
        "id": "XWo8vrDnnDsQ",
        "colab_type": "code",
        "colab": {
          "base_uri": "https://localhost:8080/",
          "height": 283
        },
        "outputId": "ad0babb5-086f-4208-b1b2-cf34478d4264"
      },
      "source": [
        "# Compare with targets\n",
        "targets"
      ],
      "execution_count": 97,
      "outputs": [
        {
          "output_type": "execute_result",
          "data": {
            "text/plain": [
              "tensor([[ 56.,  70.],\n",
              "        [ 81., 101.],\n",
              "        [119., 133.],\n",
              "        [ 22.,  37.],\n",
              "        [103., 119.],\n",
              "        [ 56.,  70.],\n",
              "        [ 81., 101.],\n",
              "        [119., 133.],\n",
              "        [ 22.,  37.],\n",
              "        [103., 119.],\n",
              "        [ 56.,  70.],\n",
              "        [ 81., 101.],\n",
              "        [119., 133.],\n",
              "        [ 22.,  37.],\n",
              "        [103., 119.]])"
            ]
          },
          "metadata": {
            "tags": []
          },
          "execution_count": 97
        }
      ]
    },
    {
      "cell_type": "markdown",
      "metadata": {
        "id": "03gmfBhGnDsm",
        "colab_type": "text"
      },
      "source": [
        "Indeed, the predictions are quite close to our targets, and now we have a fairly good model to predict crop yields for apples and oranges by looking at the average temperature, rainfall and humidity in a region."
      ]
    },
    {
      "cell_type": "markdown",
      "metadata": {
        "id": "zl0n12TxnDtx",
        "colab_type": "text"
      },
      "source": [
        "## Further Reading\n",
        "\n",
        "We've covered a lot of ground this this tutorial, including *linear regression* and the *gradient descent* optimization algorithm. Here are a few resources if you'd like to dig deeper into these topics:\n",
        "\n",
        "* For a more detailed explanation of derivates and gradient descent, see [these notes from a Udacity course](https://storage.googleapis.com/supplemental_media/udacityu/315142919/Gradient%20Descent.pdf). \n",
        "\n",
        "* For an animated visualization of how linear regression works, [see this post](https://hackernoon.com/visualizing-linear-regression-with-pytorch-9261f49edb09).\n",
        "\n",
        "* For a more mathematical treatment of matrix calculus, linear regression and gradient descent, you should check out [Andrew Ng's excellent course notes](https://github.com/Cleo-Stanford-CS/CS229_Notes/blob/master/lectures/cs229-notes1.pdf) from CS229 at Stanford University.\n",
        "\n",
        "* To practice and test your skills, you can participate in the [Boston Housing Price Prediction](https://www.kaggle.com/c/boston-housing) competition on Kaggle, a website that hosts data science competitions."
      ]
    }
  ]
}